{
 "cells": [
  {
   "cell_type": "markdown",
   "metadata": {},
   "source": [
    "## Getting Started\n",
    "Load the data from the CSV. The columns that hold JSON data are **genres** and **keywords**, so turn those into JSON objects."
   ]
  },
  {
   "cell_type": "code",
   "execution_count": 3,
   "metadata": {},
   "outputs": [],
   "source": [
    "import pandas as pd\n",
    "from json import loads\n",
    "\n",
    "df = pd.read_csv(\"tmdb_5000_movies.csv\")\n",
    "df[\"genres\"] = df[\"genres\"].apply(loads)\n",
    "df[\"keywords\"] = df[\"keywords\"].apply(loads)"
   ]
  },
  {
   "cell_type": "markdown",
   "metadata": {},
   "source": [
    "## Data Exploration\n",
    "Here's what a single row of the dataset looks like."
   ]
  },
  {
   "cell_type": "code",
   "execution_count": 2,
   "metadata": {},
   "outputs": [
    {
     "data": {
      "text/html": [
       "<div>\n",
       "<style scoped>\n",
       "    .dataframe tbody tr th:only-of-type {\n",
       "        vertical-align: middle;\n",
       "    }\n",
       "\n",
       "    .dataframe tbody tr th {\n",
       "        vertical-align: top;\n",
       "    }\n",
       "\n",
       "    .dataframe thead th {\n",
       "        text-align: right;\n",
       "    }\n",
       "</style>\n",
       "<table border=\"1\" class=\"dataframe\">\n",
       "  <thead>\n",
       "    <tr style=\"text-align: right;\">\n",
       "      <th></th>\n",
       "      <th>budget</th>\n",
       "      <th>genres</th>\n",
       "      <th>homepage</th>\n",
       "      <th>id</th>\n",
       "      <th>keywords</th>\n",
       "      <th>original_language</th>\n",
       "      <th>original_title</th>\n",
       "      <th>overview</th>\n",
       "      <th>popularity</th>\n",
       "      <th>production_companies</th>\n",
       "      <th>production_countries</th>\n",
       "      <th>release_date</th>\n",
       "      <th>revenue</th>\n",
       "      <th>runtime</th>\n",
       "      <th>spoken_languages</th>\n",
       "      <th>status</th>\n",
       "      <th>tagline</th>\n",
       "      <th>title</th>\n",
       "      <th>vote_average</th>\n",
       "      <th>vote_count</th>\n",
       "    </tr>\n",
       "  </thead>\n",
       "  <tbody>\n",
       "    <tr>\n",
       "      <th>0</th>\n",
       "      <td>237000000</td>\n",
       "      <td>[{'id': 28, 'name': 'Action'}, {'id': 12, 'nam...</td>\n",
       "      <td>http://www.avatarmovie.com/</td>\n",
       "      <td>19995</td>\n",
       "      <td>[{'id': 1463, 'name': 'culture clash'}, {'id':...</td>\n",
       "      <td>en</td>\n",
       "      <td>Avatar</td>\n",
       "      <td>In the 22nd century, a paraplegic Marine is di...</td>\n",
       "      <td>150.437577</td>\n",
       "      <td>[{\"name\": \"Ingenious Film Partners\", \"id\": 289...</td>\n",
       "      <td>[{\"iso_3166_1\": \"US\", \"name\": \"United States o...</td>\n",
       "      <td>2009-12-10</td>\n",
       "      <td>2787965087</td>\n",
       "      <td>162.0</td>\n",
       "      <td>[{\"iso_639_1\": \"en\", \"name\": \"English\"}, {\"iso...</td>\n",
       "      <td>Released</td>\n",
       "      <td>Enter the World of Pandora.</td>\n",
       "      <td>Avatar</td>\n",
       "      <td>7.2</td>\n",
       "      <td>11800</td>\n",
       "    </tr>\n",
       "  </tbody>\n",
       "</table>\n",
       "</div>"
      ],
      "text/plain": [
       "      budget                                             genres  \\\n",
       "0  237000000  [{'id': 28, 'name': 'Action'}, {'id': 12, 'nam...   \n",
       "\n",
       "                      homepage     id  \\\n",
       "0  http://www.avatarmovie.com/  19995   \n",
       "\n",
       "                                            keywords original_language  \\\n",
       "0  [{'id': 1463, 'name': 'culture clash'}, {'id':...                en   \n",
       "\n",
       "  original_title                                           overview  \\\n",
       "0         Avatar  In the 22nd century, a paraplegic Marine is di...   \n",
       "\n",
       "   popularity                               production_companies  \\\n",
       "0  150.437577  [{\"name\": \"Ingenious Film Partners\", \"id\": 289...   \n",
       "\n",
       "                                production_countries release_date     revenue  \\\n",
       "0  [{\"iso_3166_1\": \"US\", \"name\": \"United States o...   2009-12-10  2787965087   \n",
       "\n",
       "   runtime                                   spoken_languages    status  \\\n",
       "0    162.0  [{\"iso_639_1\": \"en\", \"name\": \"English\"}, {\"iso...  Released   \n",
       "\n",
       "                       tagline   title  vote_average  vote_count  \n",
       "0  Enter the World of Pandora.  Avatar           7.2       11800  "
      ]
     },
     "execution_count": 2,
     "metadata": {},
     "output_type": "execute_result"
    }
   ],
   "source": [
    "df.head(1)"
   ]
  },
  {
   "cell_type": "markdown",
   "metadata": {},
   "source": [
    "Each row has an **id**, **genres**, and **keywords**. We need to extract the genres and keywords into their own CSVs."
   ]
  },
  {
   "cell_type": "code",
   "execution_count": 3,
   "metadata": {},
   "outputs": [
    {
     "data": {
      "text/html": [
       "<div>\n",
       "<style scoped>\n",
       "    .dataframe tbody tr th:only-of-type {\n",
       "        vertical-align: middle;\n",
       "    }\n",
       "\n",
       "    .dataframe tbody tr th {\n",
       "        vertical-align: top;\n",
       "    }\n",
       "\n",
       "    .dataframe thead th {\n",
       "        text-align: right;\n",
       "    }\n",
       "</style>\n",
       "<table border=\"1\" class=\"dataframe\">\n",
       "  <thead>\n",
       "    <tr style=\"text-align: right;\">\n",
       "      <th></th>\n",
       "      <th>id</th>\n",
       "      <th>genres</th>\n",
       "      <th>keywords</th>\n",
       "    </tr>\n",
       "  </thead>\n",
       "  <tbody>\n",
       "    <tr>\n",
       "      <th>0</th>\n",
       "      <td>19995</td>\n",
       "      <td>[{'id': 28, 'name': 'Action'}, {'id': 12, 'nam...</td>\n",
       "      <td>[{'id': 1463, 'name': 'culture clash'}, {'id':...</td>\n",
       "    </tr>\n",
       "    <tr>\n",
       "      <th>1</th>\n",
       "      <td>285</td>\n",
       "      <td>[{'id': 12, 'name': 'Adventure'}, {'id': 14, '...</td>\n",
       "      <td>[{'id': 270, 'name': 'ocean'}, {'id': 726, 'na...</td>\n",
       "    </tr>\n",
       "    <tr>\n",
       "      <th>2</th>\n",
       "      <td>206647</td>\n",
       "      <td>[{'id': 28, 'name': 'Action'}, {'id': 12, 'nam...</td>\n",
       "      <td>[{'id': 470, 'name': 'spy'}, {'id': 818, 'name...</td>\n",
       "    </tr>\n",
       "    <tr>\n",
       "      <th>3</th>\n",
       "      <td>49026</td>\n",
       "      <td>[{'id': 28, 'name': 'Action'}, {'id': 80, 'nam...</td>\n",
       "      <td>[{'id': 849, 'name': 'dc comics'}, {'id': 853,...</td>\n",
       "    </tr>\n",
       "    <tr>\n",
       "      <th>4</th>\n",
       "      <td>49529</td>\n",
       "      <td>[{'id': 28, 'name': 'Action'}, {'id': 12, 'nam...</td>\n",
       "      <td>[{'id': 818, 'name': 'based on novel'}, {'id':...</td>\n",
       "    </tr>\n",
       "  </tbody>\n",
       "</table>\n",
       "</div>"
      ],
      "text/plain": [
       "       id                                             genres  \\\n",
       "0   19995  [{'id': 28, 'name': 'Action'}, {'id': 12, 'nam...   \n",
       "1     285  [{'id': 12, 'name': 'Adventure'}, {'id': 14, '...   \n",
       "2  206647  [{'id': 28, 'name': 'Action'}, {'id': 12, 'nam...   \n",
       "3   49026  [{'id': 28, 'name': 'Action'}, {'id': 80, 'nam...   \n",
       "4   49529  [{'id': 28, 'name': 'Action'}, {'id': 12, 'nam...   \n",
       "\n",
       "                                            keywords  \n",
       "0  [{'id': 1463, 'name': 'culture clash'}, {'id':...  \n",
       "1  [{'id': 270, 'name': 'ocean'}, {'id': 726, 'na...  \n",
       "2  [{'id': 470, 'name': 'spy'}, {'id': 818, 'name...  \n",
       "3  [{'id': 849, 'name': 'dc comics'}, {'id': 853,...  \n",
       "4  [{'id': 818, 'name': 'based on novel'}, {'id':...  "
      ]
     },
     "execution_count": 3,
     "metadata": {},
     "output_type": "execute_result"
    }
   ],
   "source": [
    "df[[\"id\", \"genres\", \"keywords\"]].head(5)"
   ]
  },
  {
   "cell_type": "markdown",
   "metadata": {},
   "source": [
    "### Example of the genres schema\n",
    "Each genre has an \"id\" and \"name\" attribute that we can extract."
   ]
  },
  {
   "cell_type": "code",
   "execution_count": 4,
   "metadata": {},
   "outputs": [
    {
     "data": {
      "text/plain": [
       "[{'id': 28, 'name': 'Action'},\n",
       " {'id': 12, 'name': 'Adventure'},\n",
       " {'id': 14, 'name': 'Fantasy'},\n",
       " {'id': 878, 'name': 'Science Fiction'}]"
      ]
     },
     "execution_count": 4,
     "metadata": {},
     "output_type": "execute_result"
    }
   ],
   "source": [
    "df[\"genres\"][0]"
   ]
  },
  {
   "cell_type": "markdown",
   "metadata": {},
   "source": [
    "### Example of the keywords schema\n",
    "The keywords schema is exactly like the genres schema, so this means we can reuse some code."
   ]
  },
  {
   "cell_type": "code",
   "execution_count": 5,
   "metadata": {},
   "outputs": [
    {
     "data": {
      "text/plain": [
       "[{'id': 1463, 'name': 'culture clash'},\n",
       " {'id': 2964, 'name': 'future'},\n",
       " {'id': 3386, 'name': 'space war'},\n",
       " {'id': 3388, 'name': 'space colony'},\n",
       " {'id': 3679, 'name': 'society'},\n",
       " {'id': 3801, 'name': 'space travel'},\n",
       " {'id': 9685, 'name': 'futuristic'},\n",
       " {'id': 9840, 'name': 'romance'},\n",
       " {'id': 9882, 'name': 'space'},\n",
       " {'id': 9951, 'name': 'alien'},\n",
       " {'id': 10148, 'name': 'tribe'},\n",
       " {'id': 10158, 'name': 'alien planet'},\n",
       " {'id': 10987, 'name': 'cgi'},\n",
       " {'id': 11399, 'name': 'marine'},\n",
       " {'id': 13065, 'name': 'soldier'},\n",
       " {'id': 14643, 'name': 'battle'},\n",
       " {'id': 14720, 'name': 'love affair'},\n",
       " {'id': 165431, 'name': 'anti war'},\n",
       " {'id': 193554, 'name': 'power relations'},\n",
       " {'id': 206690, 'name': 'mind and soul'},\n",
       " {'id': 209714, 'name': '3d'}]"
      ]
     },
     "execution_count": 5,
     "metadata": {},
     "output_type": "execute_result"
    }
   ],
   "source": [
    "df[\"keywords\"][0]"
   ]
  },
  {
   "cell_type": "markdown",
   "metadata": {},
   "source": [
    "## Data Preprocessing"
   ]
  },
  {
   "cell_type": "code",
   "execution_count": 6,
   "metadata": {},
   "outputs": [
    {
     "data": {
      "text/plain": [
       "[(19995, 28),\n",
       " (19995, 12),\n",
       " (19995, 14),\n",
       " (19995, 878),\n",
       " (285, 12),\n",
       " (285, 14),\n",
       " (285, 28),\n",
       " (206647, 28),\n",
       " (206647, 12),\n",
       " (206647, 80)]"
      ]
     },
     "execution_count": 6,
     "metadata": {},
     "output_type": "execute_result"
    }
   ],
   "source": [
    "genre_relations = [(row[\"id\"], genre[\"id\"]) for _, row in df.iterrows() for genre in row[\"genres\"]]\n",
    "genre_relations[:10] # truncate preview because there's a lot"
   ]
  },
  {
   "cell_type": "code",
   "execution_count": 7,
   "metadata": {},
   "outputs": [
    {
     "data": {
      "text/plain": [
       "{(12, 'Adventure'),\n",
       " (14, 'Fantasy'),\n",
       " (16, 'Animation'),\n",
       " (18, 'Drama'),\n",
       " (27, 'Horror'),\n",
       " (28, 'Action'),\n",
       " (35, 'Comedy'),\n",
       " (36, 'History'),\n",
       " (37, 'Western'),\n",
       " (53, 'Thriller'),\n",
       " (80, 'Crime'),\n",
       " (99, 'Documentary'),\n",
       " (878, 'Science Fiction'),\n",
       " (9648, 'Mystery'),\n",
       " (10402, 'Music'),\n",
       " (10749, 'Romance'),\n",
       " (10751, 'Family'),\n",
       " (10752, 'War'),\n",
       " (10769, 'Foreign'),\n",
       " (10770, 'TV Movie')}"
      ]
     },
     "execution_count": 7,
     "metadata": {},
     "output_type": "execute_result"
    }
   ],
   "source": [
    "genres = {(genre[\"id\"], genre[\"name\"]) for row in df[\"genres\"] for genre in row}\n",
    "genres"
   ]
  },
  {
   "cell_type": "code",
   "execution_count": 8,
   "metadata": {},
   "outputs": [
    {
     "data": {
      "text/plain": [
       "[(19995, 1463),\n",
       " (19995, 2964),\n",
       " (19995, 3386),\n",
       " (19995, 3388),\n",
       " (19995, 3679),\n",
       " (19995, 3801),\n",
       " (19995, 9685),\n",
       " (19995, 9840),\n",
       " (19995, 9882),\n",
       " (19995, 9951)]"
      ]
     },
     "execution_count": 8,
     "metadata": {},
     "output_type": "execute_result"
    }
   ],
   "source": [
    "keyword_relations = [(row[\"id\"], keyword[\"id\"]) for _, row in df.iterrows() for keyword in row[\"keywords\"]]\n",
    "keyword_relations[:10] # truncate preview because there's a lot"
   ]
  },
  {
   "cell_type": "code",
   "execution_count": 9,
   "metadata": {},
   "outputs": [
    {
     "data": {
      "text/plain": [
       "[(217992, 'thoughts of retirement'),\n",
       " (175343, 'garage sale'),\n",
       " (159330, 'empty safe'),\n",
       " (210689, 'virility'),\n",
       " (5922, 'north carolina'),\n",
       " (212, 'london england'),\n",
       " (7579, 'rich woman - poor man'),\n",
       " (162842, 'stolen cars'),\n",
       " (165399, 'editing'),\n",
       " (1774, 'news broadcast')]"
      ]
     },
     "execution_count": 9,
     "metadata": {},
     "output_type": "execute_result"
    }
   ],
   "source": [
    "keywords = {(keyword[\"id\"], keyword[\"name\"]) for row in df[\"keywords\"] for keyword in row}\n",
    "list(keywords)[:10] # truncate preview because there's a lot"
   ]
  },
  {
   "cell_type": "code",
   "execution_count": 14,
   "metadata": {},
   "outputs": [
    {
     "data": {
      "text/plain": [
       "[(19995, 'Avatar', 150.437577, 7.2, 11800),\n",
       " (285, \"Pirates of the Caribbean: At World's End\", 139.082615, 6.9, 4500),\n",
       " (206647, 'Spectre', 107.37678799999999, 6.3, 4466),\n",
       " (49026, 'The Dark Knight Rises', 112.31295, 7.6, 9106),\n",
       " (49529, 'John Carter', 43.926995, 6.1, 2124),\n",
       " (559, 'Spider-Man 3', 115.69981399999999, 5.9, 3576),\n",
       " (38757, 'Tangled', 48.681969, 7.4, 3330),\n",
       " (99861, 'Avengers: Age of Ultron', 134.27922900000002, 7.3, 6767),\n",
       " (767, 'Harry Potter and the Half-Blood Prince', 98.885637, 7.4, 5293),\n",
       " (209112, 'Batman v Superman: Dawn of Justice', 155.790452, 5.7, 7004)]"
      ]
     },
     "execution_count": 14,
     "metadata": {},
     "output_type": "execute_result"
    }
   ],
   "source": [
    "columns = [\"id\", \"title\", \"popularity\", \"vote_average\", \"vote_count\"]\n",
    "movies = [tuple(x) for x in df[columns].values]\n",
    "movies[:10]"
   ]
  },
  {
   "cell_type": "markdown",
   "metadata": {},
   "source": [
    "## Output to CSV"
   ]
  },
  {
   "cell_type": "code",
   "execution_count": 16,
   "metadata": {},
   "outputs": [],
   "source": [
    "import csv"
   ]
  },
  {
   "cell_type": "code",
   "execution_count": 17,
   "metadata": {},
   "outputs": [],
   "source": [
    "def output(name, data, header):\n",
    "    with open(name + '.csv', 'w') as f:\n",
    "        writer = csv.writer(f, delimiter=',', lineterminator='\\n')\n",
    "        writer.writerow(header)\n",
    "        for item in data:\n",
    "            writer.writerow(item)"
   ]
  },
  {
   "cell_type": "code",
   "execution_count": null,
   "metadata": {},
   "outputs": [],
   "source": [
    "output(\"genres\", genres, ('id', 'name'))\n",
    "output(\"keywords\", keywords, ('id', 'name'))\n",
    "output(\"genre_relations\", genre_relations, ('movie_id', 'genre_id'))\n",
    "output(\"keyword_relations\", keyword_relations, ('movie_id', 'keyword_id'))"
   ]
  },
  {
   "cell_type": "code",
   "execution_count": 18,
   "metadata": {},
   "outputs": [],
   "source": [
    "output(\"movies\", movies, ('id', 'title', 'popularity', 'vote_average', 'vote_count'))"
   ]
  }
 ],
 "metadata": {
  "kernelspec": {
   "display_name": "Python 3",
   "language": "python",
   "name": "python3"
  },
  "language_info": {
   "codemirror_mode": {
    "name": "ipython",
    "version": 3
   },
   "file_extension": ".py",
   "mimetype": "text/x-python",
   "name": "python",
   "nbconvert_exporter": "python",
   "pygments_lexer": "ipython3",
   "version": "3.7.1"
  }
 },
 "nbformat": 4,
 "nbformat_minor": 2
}
